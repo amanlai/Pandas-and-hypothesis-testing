{
 "cells": [
  {
   "cell_type": "markdown",
   "metadata": {},
   "source": [
    "---\n",
    "\n",
    "_You are currently looking at **version 1.1** of this notebook. To download notebooks and datafiles, as well as get help on Jupyter notebooks in the Coursera platform, visit the [Jupyter Notebook FAQ](https://www.coursera.org/learn/python-data-analysis/resources/0dhYG) course resource._\n",
    "\n",
    "---"
   ]
  },
  {
   "cell_type": "code",
   "execution_count": 1,
   "metadata": {},
   "outputs": [],
   "source": [
    "import pandas as pd\n",
    "import numpy as np\n",
    "from scipy.stats import ttest_ind"
   ]
  },
  {
   "cell_type": "markdown",
   "metadata": {},
   "source": [
    "# Hypothesis Testing\n",

    "Definitions:\n",
    "* A _quarter_ is a specific three month period, Q1 is January through March, Q2 is April through June, Q3 is July through September, Q4 is October through December.\n",
    "* A _recession_ is defined as starting with two consecutive quarters of GDP decline, and ending with two consecutive quarters of GDP growth.\n",
    "* A _recession bottom_ is the quarter within a recession which had the lowest GDP.\n",
    "* A _university town_ is a city which has a high percentage of university students compared to the total population of the city.\n",
    "\n",
    "**Hypothesis**: University towns have their mean housing prices less effected by recessions. Run a t-test to compare the ratio of the mean price of houses in university towns the quarter before the recession starts compared to the recession bottom. (`price_ratio=quarter_before_recession/recession_bottom`)\n",
    "\n",
    "The following data files are available for this assignment:\n",
    "* From the [Zillow research data site](http://www.zillow.com/research/data/) there is housing data for the United States. In particular the datafile for [all homes at a city level](http://files.zillowstatic.com/research/public/City/City_Zhvi_AllHomes.csv), ```City_Zhvi_AllHomes.csv```, has median home sale prices at a fine grained level.\n",
    "* From the Wikipedia page on college towns is a list of [university towns in the United States](https://en.wikipedia.org/wiki/List_of_college_towns#College_towns_in_the_United_States) which has been copy and pasted into the file ```university_towns.txt```.\n",
    "* From Bureau of Economic Analysis, US Department of Commerce, the [GDP over time](http://www.bea.gov/national/index.htm#gdp) of the United States in current dollars (use the chained value in 2009 dollars), in quarterly intervals, in the file ```gdplev.xls```. For this assignment, only look at GDP data from the first quarter of 2000 onward.\n",
    "\n",
   ]
  },
  {
   "cell_type": "code",
   "execution_count": 2,
   "metadata": {},
   "outputs": [],
   "source": [
    "def get_list_of_university_towns():\n",
    "    '''Returns a DataFrame of towns and the states they are in from the \n",
    "    university_towns.txt list. The format of the DataFrame should be:\n",
    "    DataFrame( [ [\"Michigan\", \"Ann Arbor\"], [\"Michigan\", \"Yipsilanti\"] ], \n",
    "    columns=[\"State\", \"RegionName\"]  )\n",
    "    \n",
    "    The following cleaning needs to be done:\n",
    "\n",
    "    1. For \"State\", removing characters from \"[\" to the end.\n",
    "    2. For \"RegionName\", when applicable, removing every character from \" (\" to the end.\n",
    "    3. Depending on how you read the data, you may need to remove newline character '\\n'. '''\n",
    "    \n",
    "    university_towns = []\n",
    "    with open('../datasets/university_towns.txt') as file:\n",
    "        for line in file:\n",
    "            if '[edit]' in line:\n",
    "                state = line\n",
    "            else:\n",
    "                university_towns.append((state, line))\n",
    "    \n",
    "    towns = pd.DataFrame(university_towns, columns=['State', 'RegionName'])\n",
    "    \n",
    "    towns.iloc[:,0] = towns.iloc[:,0].apply(lambda x: x[:x.find('[')])\n",
    "    towns.iloc[:,1] = towns.iloc[:,1].apply(lambda x: x[:x.find(' (')])\n",
    "    \n",
    "    towns.columns= ['State', 'RegionName']\n",
    "\n",
    "\n",
    "    # alternative way, but slower\n",
    "    #towns = towns.replace(r'\\[.*\\n|\\s\\(.*\\n','', regex=True)\n",
    "    \n",
    "    return towns\n",
    "\n",
    "#get_list_of_university_towns()"
   ]
  },
  {
   "cell_type": "code",
   "execution_count": 3,
   "metadata": {},
   "outputs": [],
   "source": [
    "gdp = pd.read_excel('../datasets/gdplev.xls')\n",
    "gdp.set_index(gdp.iloc[:,4],inplace=True)\n",
    "gdp = gdp.loc['2000q1':].iloc[:,6]\n",
    "\n",
    "# does the same job as above but creates a DataFrame instead of a Series\n",
    "\n",
    "#gdp = pd.read_excel('../datasets/gdplev.xls', skiprows=2)\n",
    "#gdp = gdp.set_index('Quarterly')\n",
    "#gdp = gdp.loc['2000q1':, gdp.columns.str.contains('^Unnamed: 6')]\n",
    "\n",
    "rec_marker = []\n",
    "for i in range(0,len(gdp)):\n",
    "    if gdp[i] < gdp[i-1]:\n",
    "        rec_marker.append(1)\n",
    "    else:\n",
    "        rec_marker.append(0)\n",
    "\n",
    "\n",
    "def get_recession_start():\n",
    "    '''Returns the year and quarter of the recession start time as a \n",
    "    string value in a format such as 2005q3'''\n",
    "    \n",
    "    rec = []\n",
    "    i = 0\n",
    "    for i in range(0,len(gdp)):\n",
    "        if rec_marker[i-1] == 0 and rec_marker[i] == 1 and rec_marker[i+1] == 1:\n",
    "            rec.append(gdp.index[i])\n",
    "\n",
    "    return rec\n",
    "\n",
    "#get_recession_start()"
   ]
  },
  {
   "cell_type": "code",
   "execution_count": 4,
   "metadata": {},
   "outputs": [],
   "source": [
    "def get_recession_end():\n",
    "    '''Returns the year and quarter of the recession end time as a \n",
    "    string value in a format such as 2005q3'''\n",
    "    \n",
    "    # we will first split the quarters into small blocks by the starts of recessions\n",
    "    sep = get_recession_start()\n",
    "    \n",
    "    blocks = []\n",
    "    for element in list(gdp.index):\n",
    "        if element in sep: blocks.append([])\n",
    "        if blocks: blocks[-1].append(element)\n",
    "        \n",
    "    # a code that does the same job\n",
    "    #lst = list(gdp.index)\n",
    "    #l = [lst.index(i) for i in sep]+[len(lst)]\n",
    "    #[lst[l[i-1]:v] for i,v in enumerate(l) if i]\n",
    "    \n",
    "    # another code that does the same job\n",
    "    #starts = sorted(lst.index(s) for s in sep) \n",
    "    #ends = starts[1:] + [None]\n",
    "    #[lst[slice(start, end)] for start, end in zip(starts, ends)]\n",
    "    \n",
    "    rec = []\n",
    "    ind = list(gdp.index).index(sep[0])\n",
    "    for block in blocks:\n",
    "        for i in range(ind,ind+len(block)):\n",
    "            if rec_marker[i-2] == 1 and rec_marker[i-1] == 0 and rec_marker[i] == 0:\n",
    "                rec.append(gdp.index[i])\n",
    "                ind = ind + len(block)\n",
    "                break\n",
    "\n",
    "    return rec\n",
    "\n",
    "#get_recession_end()\n",
    "\n",
    "#pd.DataFrame(rec_marker,index=gdp.index).loc['2011q1':]"
   ]
  },
  {
   "cell_type": "code",
   "execution_count": 5,
   "metadata": {},
   "outputs": [
    {
     "data": {
      "text/plain": [
       "'2009q2'"
      ]
     },
     "execution_count": 5,
     "metadata": {},
     "output_type": "execute_result"
    }
   ],
   "source": [
    "def get_recession_bottom():\n",
    "    '''Returns the year and quarter of the recession bottom time as a \n",
    "    string value in a format such as 2005q3'''\n",
    "        \n",
    "    rec_gdp = gdp[get_recession_start()[0]:get_recession_end()[0]]\n",
    "    rec_bottom = rec_gdp.min()\n",
    "        \n",
    "    return rec_gdp[rec_gdp == rec_bottom].index[0]\n",
    "\n",
    "get_recession_bottom()"
   ]
  },
  {
   "cell_type": "code",
   "execution_count": 6,
   "metadata": {},
   "outputs": [],
   "source": [
    "# Use this dictionary to map state names to two letter acronyms\n",
    "states = {'OH': 'Ohio', 'KY': 'Kentucky', 'AS': 'American Samoa', 'NV': 'Nevada', 'WY': 'Wyoming', 'NA': 'National', 'AL': 'Alabama', 'MD': 'Maryland', 'AK': 'Alaska', 'UT': 'Utah', 'OR': 'Oregon', 'MT': 'Montana', 'IL': 'Illinois', 'TN': 'Tennessee', 'DC': 'District of Columbia', 'VT': 'Vermont', 'ID': 'Idaho', 'AR': 'Arkansas', 'ME': 'Maine', 'WA': 'Washington', 'HI': 'Hawaii', 'WI': 'Wisconsin', 'MI': 'Michigan', 'IN': 'Indiana', 'NJ': 'New Jersey', 'AZ': 'Arizona', 'GU': 'Guam', 'MS': 'Mississippi', 'PR': 'Puerto Rico', 'NC': 'North Carolina', 'TX': 'Texas', 'SD': 'South Dakota', 'MP': 'Northern Mariana Islands', 'IA': 'Iowa', 'MO': 'Missouri', 'CT': 'Connecticut', 'WV': 'West Virginia', 'SC': 'South Carolina', 'LA': 'Louisiana', 'KS': 'Kansas', 'NY': 'New York', 'NE': 'Nebraska', 'OK': 'Oklahoma', 'FL': 'Florida', 'CA': 'California', 'CO': 'Colorado', 'PA': 'Pennsylvania', 'DE': 'Delaware', 'NM': 'New Mexico', 'RI': 'Rhode Island', 'MN': 'Minnesota', 'VI': 'Virgin Islands', 'NH': 'New Hampshire', 'MA': 'Massachusetts', 'GA': 'Georgia', 'ND': 'North Dakota', 'VA': 'Virginia'}\n",
    "quarters = ['2000q1','2000q2','2000q3','2000q4', '2001q1','2001q2','2001q3','2001q4', '2002q1','2002q2','2002q3','2002q4', '2003q1','2003q2','2003q3','2003q4', '2004q1','2004q2','2004q3','2004q4', '2005q1','2005q2','2005q3','2005q4', '2006q1','2006q2','2006q3','2006q4', '2007q1','2007q2','2007q3','2007q4', '2008q1','2008q2','2008q3','2008q4', '2009q1','2009q2','2009q3','2009q4', '2010q1','2010q2','2010q3','2010q4', '2011q1','2011q2','2011q3','2011q4', '2012q1','2012q2','2012q3','2012q4', '2013q1','2013q2','2013q3','2013q4', '2014q1','2014q2','2014q3','2014q4', '2015q1','2015q2','2015q3','2015q4', '2016q1','2016q2','2016q3']\n",
    "\n",
    "\n",
    "def convert_housing_data_to_quarters():\n",
    "    '''Converts the housing data to quarters and returns it as mean \n",
    "    values in a dataframe. This dataframe should be a dataframe with\n",
    "    columns for 2000q1 through 2016q3, and should have a multi-index\n",
    "    in the shape of [\"State\",\"RegionName\"].\n",
    "    \n",
    "    Note: Quarters are defined in the assignment description, they are\n",
    "    not arbitrary three month periods.\n",
    "    \n",
    "    The resulting dataframe should have 67 columns, and 10,730 rows.\n",
    "    '''\n",
    "    \n",
    "    homes = pd.read_csv('../datasets/City_Zhvi_AllHomes.csv')\n",
    "    homes['State'].replace(states, inplace=True)\n",
    "    state_region = [homes['State'], homes['RegionName']]\n",
    "    homes = homes.loc[:,'2000-01':'2016-08']\n",
    "\n",
    "    homes = pd.concat([homes.iloc[:,i:i+3].mean(axis=1) for i in range(0,homes.shape[1],3)], \n",
    "                      axis=1, ignore_index=True)\n",
    "    \n",
    "    # does the same job but 3 times slower\n",
    "    \n",
    "#    blocks = [homes.iloc[:,i:i+3] for i in range(0,homes.shape[1],3)]\n",
    "#    homes = []    \n",
    "#    for quarter in range(0,len(blocks)):\n",
    "#        homes.append(blocks[quarter].T.mean())\n",
    "#    homes = np.reshape(homes,(len(blocks),len(blocks[0]))).T\n",
    "#    homes = pd.DataFrame(homes, columns=quarters)\n",
    "\n",
    "     # if the cuts divided the columns into equal blocks, i.e. homes.shape[1]/3 was integer, then this is the fastest method\n",
    "#    homes = pd.DataFrame(homes.to_numpy().reshape(homes.shape[0], int(homes.shape[1]//3)+1, 3).mean(axis=-1) )\n",
    "    \n",
    "#    homes[['State','RegionName']] = state_region\n",
    "  #  homes = homes.groupby(['State','RegionName']).sum()\n",
    "   # homes.columns = quarters\n",
    "    \n",
    "    homes.index = pd.MultiIndex.from_tuples(list(zip(*state_region)), names=['State','RegionName'])\n",
    "    homes.columns = quarters\n",
    "    \n",
    "    return homes\n",
    "\n",
    "#convert_housing_data_to_quarters().head(2)"
   ]
  },
  {
   "cell_type": "code",
   "execution_count": 7,
   "metadata": {},
   "outputs": [
    {
     "data": {
      "text/plain": [
       "(True, 0.008975587540712617, 'university town')"
      ]
     },
     "execution_count": 7,
     "metadata": {},
     "output_type": "execute_result"
    }
   ],
   "source": [
    "def run_ttest():\n",
    "    '''First creates new data showing the decline or growth of housing prices\n",
    "    between the recession start and the recession bottom. Then runs a ttest\n",
    "    comparing the university town values to the non-university towns values, \n",
    "    return whether the alternative hypothesis (that the two groups are the same)\n",
    "    is true or not as well as the p-value of the confidence. \n",
    "    \n",
    "    Return the tuple (different, p, better) where different=True if the t-test is\n",
    "    True at a p<0.01 (we reject the null hypothesis), or different=False if \n",
    "    otherwise (we cannot reject the null hypothesis). The variable p should\n",
    "    be equal to the exact p value returned from scipy.stats.ttest_ind(). The\n",
    "    value for better should be either \"university town\" or \"non-university town\"\n",
    "    depending on which has a lower mean price ratio (which is equivilent to a\n",
    "    reduced market loss).'''\n",
    "    \n",
    "    prices = convert_housing_data_to_quarters()\n",
    "    diff = (prices.loc[:,get_recession_bottom()] - prices.loc[:,get_recession_start()[0]])/prices.loc[:,get_recession_start()[0]]\n",
    "    \n",
    "    uni_towns = get_list_of_university_towns()\n",
    "    uni_towns = [tuple(uni_towns.iloc[i,:]) for i in range(0, len(uni_towns))]\n",
    "    \n",
    "    utown = diff[diff.index.isin(uni_towns)]\n",
    "    notutown = diff[~diff.index.isin(uni_towns)]\n",
    "\n",
    "    t, p = ttest_ind(utown.dropna(), notutown.dropna()) \n",
    "    \n",
    "    if p<0.01: different=True\n",
    "    else: different=False\n",
    "    \n",
    "    if utown.mean() > notutown.mean(): better='university town'\n",
    "    else: better='non-university town'\n",
    "    \n",
    "    return (different, p, better)\n",
    "\n",
    "\n",
    "run_ttest()"
   ]
  },
  {
   "cell_type": "code",
   "execution_count": null,
   "metadata": {},
   "outputs": [],
   "source": []
  }
 ],
 "metadata": {
  "coursera": {
   "course_slug": "python-data-analysis",
   "graded_item_id": "Il9Fx",
   "launcher_item_id": "TeDW0",
   "part_id": "WGlun"
  },
  "kernelspec": {
   "display_name": "Python 3",
   "language": "python",
   "name": "python3"
  },
  "language_info": {
   "codemirror_mode": {
    "name": "ipython",
    "version": 3
   },
   "file_extension": ".py",
   "mimetype": "text/x-python",
   "name": "python",
   "nbconvert_exporter": "python",
   "pygments_lexer": "ipython3",
   "version": "3.7.7"
  }
 },
 "nbformat": 4,
 "nbformat_minor": 1
}
